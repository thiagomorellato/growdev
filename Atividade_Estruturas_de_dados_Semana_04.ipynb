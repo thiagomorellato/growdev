{
  "nbformat": 4,
  "nbformat_minor": 0,
  "metadata": {
    "colab": {
      "provenance": [],
      "include_colab_link": true
    },
    "kernelspec": {
      "name": "python3",
      "display_name": "Python 3"
    },
    "language_info": {
      "name": "python"
    }
  },
  "cells": [
    {
      "cell_type": "markdown",
      "metadata": {
        "id": "view-in-github",
        "colab_type": "text"
      },
      "source": [
        "<a href=\"https://colab.research.google.com/github/thiagomorellato/growdev/blob/main/Atividade_Estruturas_de_dados_Semana_04.ipynb\" target=\"_parent\"><img src=\"https://colab.research.google.com/assets/colab-badge.svg\" alt=\"Open In Colab\"/></a>"
      ]
    },
    {
      "cell_type": "markdown",
      "source": [
        "![Growdev](https://www.growdev.com.br/assets/images/logo_growdev.png)"
      ],
      "metadata": {
        "id": "v8pFWwviib2C"
      }
    },
    {
      "cell_type": "markdown",
      "source": [
        "![Formação Engenharia de Dados](https://d335luupugsy2.cloudfront.net/cms/files/524558/1707226566/$occu5m8t1op)"
      ],
      "metadata": {
        "id": "6Tkl4_HxifXZ"
      }
    },
    {
      "cell_type": "markdown",
      "source": [
        "Este material tem como objetivo incentivar a prática dos conteúdos estudados até o momento, e a pesquisa. Tenha em consideração que o exercício foi pensado para incentivar a prática dos conteúdos estudados até então, porém aprender a pesquisar faz parte do processo de aprendizagem.\n",
        "\n",
        "Fique tranquilo, faça os exercícios com calma, e boa prática!\n"
      ],
      "metadata": {
        "id": "ty7Bzyl1i9bN"
      }
    },
    {
      "cell_type": "markdown",
      "source": [
        "#Orientações:\n",
        "\n",
        " - Faça uma copia deste arquivo\n",
        " - Após concluir os exercicios, suba seu exercicio para o GitHub e compartilhe o link no **google** Classroom\n"
      ],
      "metadata": {
        "id": "DU5-yCQwjx3V"
      }
    },
    {
      "cell_type": "markdown",
      "source": [
        "#Exercícios"
      ],
      "metadata": {
        "id": "EzT810tnlmfE"
      }
    },
    {
      "cell_type": "markdown",
      "source": [
        "#Listas"
      ],
      "metadata": {
        "id": "rDqBAimhSq_C"
      }
    },
    {
      "cell_type": "markdown",
      "source": [
        "Para esse exercicio você tera alguns desafios, separei eles em partes, vamos lá?\n",
        "\n",
        "1 - Crie uma lista com 100 números inteiros.\n",
        "- Pode ser uma sequência, ou caso queira se desafiar faça de números aleatorios.\n",
        "- Os dados não devem ser inseridos manualmente, utilize de um laço de repetição para adicionar os elementos a Lista.\n"
      ],
      "metadata": {
        "id": "GoGkz2n-SudC"
      }
    },
    {
      "cell_type": "code",
      "source": [
        "import random\n",
        "lista = []\n",
        "random.seed(43)\n",
        "for i in range(100):\n",
        "  num = random.randint(1,10000)\n",
        "  lista.append(num)\n",
        "print(lista)\n",
        "len(lista)"
      ],
      "metadata": {
        "id": "lLYBJr0KSuJW",
        "outputId": "9234107b-2a30-48eb-8dc1-f4325eedb572",
        "colab": {
          "base_uri": "https://localhost:8080/"
        }
      },
      "execution_count": 29,
      "outputs": [
        {
          "output_type": "stream",
          "name": "stdout",
          "text": [
            "[632, 4688, 2359, 7579, 6061, 1578, 7426, 9811, 8164, 9978, 314, 8423, 7085, 9448, 6101, 8962, 7112, 6455, 2887, 946, 1759, 2041, 6159, 2515, 1569, 2632, 8396, 8127, 2109, 6339, 9785, 8302, 4456, 9424, 2980, 6176, 1041, 802, 9491, 1003, 3058, 1007, 2716, 4853, 4511, 1263, 8557, 1689, 9575, 1001, 1542, 7495, 5428, 5410, 8666, 7190, 2734, 2070, 1314, 5236, 821, 9690, 4393, 6031, 3048, 9904, 1153, 9044, 1857, 4867, 8109, 5924, 7111, 678, 7751, 6799, 9861, 1371, 5868, 2084, 1413, 2525, 9406, 5039, 1785, 8769, 6960, 7260, 9620, 623, 2402, 42, 1733, 2037, 2065, 280, 5532, 1943, 8722, 8162]\n"
          ]
        },
        {
          "output_type": "execute_result",
          "data": {
            "text/plain": [
              "100"
            ]
          },
          "metadata": {},
          "execution_count": 29
        }
      ]
    },
    {
      "cell_type": "markdown",
      "source": [
        "2 - Calcule e exiba a soma de todos os números da lista."
      ],
      "metadata": {
        "id": "LQ0SVqxyVTD5"
      }
    },
    {
      "cell_type": "code",
      "source": [
        "sum(lista)"
      ],
      "metadata": {
        "id": "6HP8yU1bVS0F",
        "outputId": "f015a2b4-c878-4db8-8db1-ddba78a4c214",
        "colab": {
          "base_uri": "https://localhost:8080/"
        }
      },
      "execution_count": 13,
      "outputs": [
        {
          "output_type": "execute_result",
          "data": {
            "text/plain": [
              "489112"
            ]
          },
          "metadata": {},
          "execution_count": 13
        }
      ]
    },
    {
      "cell_type": "markdown",
      "source": [
        "3 - Exiba o maior e o menor número da lista."
      ],
      "metadata": {
        "id": "HYQGLklTTPMx"
      }
    },
    {
      "cell_type": "code",
      "source": [
        "min(lista)"
      ],
      "metadata": {
        "id": "q_UZx7EETT6S",
        "outputId": "362162b6-d2ee-4a90-efe7-baea70597b33",
        "colab": {
          "base_uri": "https://localhost:8080/"
        }
      },
      "execution_count": 20,
      "outputs": [
        {
          "output_type": "execute_result",
          "data": {
            "text/plain": [
              "42"
            ]
          },
          "metadata": {},
          "execution_count": 20
        }
      ]
    },
    {
      "cell_type": "code",
      "source": [
        "max(lista)"
      ],
      "metadata": {
        "id": "oU-yEUnIOWTE",
        "outputId": "fe4c2a61-0630-45d2-b592-8360ec81b587",
        "colab": {
          "base_uri": "https://localhost:8080/"
        }
      },
      "execution_count": 21,
      "outputs": [
        {
          "output_type": "execute_result",
          "data": {
            "text/plain": [
              "9978"
            ]
          },
          "metadata": {},
          "execution_count": 21
        }
      ]
    },
    {
      "cell_type": "markdown",
      "source": [
        "4 - Pesquise se o número 77 esta presente na lista e exiba:\n",
        "- Quantas vezes esse número aparece na lista\n",
        "- Se aparece em qual ou quais posições(Indice)."
      ],
      "metadata": {
        "id": "1iU6ZtRhVN9i"
      }
    },
    {
      "cell_type": "code",
      "source": [
        "if 77 in lista:\n",
        "  print(\"O número 77 está na lista\")\n",
        "else:\n",
        "  print(\"O número 77 não está na lista\")\n",
        "\n",
        "if 7085 in lista:\n",
        "  print(\"O número 7085 está na lista\")\n",
        "else:\n",
        "  print(\"O número 7085 não está na lista\")\n",
        "\n",
        "#lista.append(7085) #teste para ver se o programa realmente consegue mostrar caso o número apareça mais de uma vez\n",
        "for posicao, numero in enumerate(lista):\n",
        "  if numero == 7085:\n",
        "    print(f\"O número 7085 aparece na posição :{posicao}\")"
      ],
      "metadata": {
        "id": "OGVH4AoGWU2R",
        "outputId": "a2f2029d-8c18-4dcc-8409-5e94ed87ea4d",
        "colab": {
          "base_uri": "https://localhost:8080/"
        }
      },
      "execution_count": 31,
      "outputs": [
        {
          "output_type": "stream",
          "name": "stdout",
          "text": [
            "O número 77 não está na lista\n",
            "O número 7085 está na lista\n",
            "O número 7085 aparece na posição :12\n"
          ]
        }
      ]
    },
    {
      "cell_type": "markdown",
      "source": [
        "5 - Ordene a lista de forma descendente e exiba."
      ],
      "metadata": {
        "id": "jrwycUMvWVSu"
      }
    },
    {
      "cell_type": "code",
      "source": [
        "lista.sort(reverse=True)\n",
        "lista"
      ],
      "metadata": {
        "id": "RvRpLp87e5CB",
        "outputId": "484cd09f-e07e-489a-b130-6947589f3e43",
        "colab": {
          "base_uri": "https://localhost:8080/"
        }
      },
      "execution_count": 32,
      "outputs": [
        {
          "output_type": "execute_result",
          "data": {
            "text/plain": [
              "[9978,\n",
              " 9904,\n",
              " 9861,\n",
              " 9811,\n",
              " 9785,\n",
              " 9690,\n",
              " 9620,\n",
              " 9575,\n",
              " 9491,\n",
              " 9448,\n",
              " 9424,\n",
              " 9406,\n",
              " 9044,\n",
              " 8962,\n",
              " 8769,\n",
              " 8722,\n",
              " 8666,\n",
              " 8557,\n",
              " 8423,\n",
              " 8396,\n",
              " 8302,\n",
              " 8164,\n",
              " 8162,\n",
              " 8127,\n",
              " 8109,\n",
              " 7751,\n",
              " 7579,\n",
              " 7495,\n",
              " 7426,\n",
              " 7260,\n",
              " 7190,\n",
              " 7112,\n",
              " 7111,\n",
              " 7085,\n",
              " 6960,\n",
              " 6799,\n",
              " 6455,\n",
              " 6339,\n",
              " 6176,\n",
              " 6159,\n",
              " 6101,\n",
              " 6061,\n",
              " 6031,\n",
              " 5924,\n",
              " 5868,\n",
              " 5532,\n",
              " 5428,\n",
              " 5410,\n",
              " 5236,\n",
              " 5039,\n",
              " 4867,\n",
              " 4853,\n",
              " 4688,\n",
              " 4511,\n",
              " 4456,\n",
              " 4393,\n",
              " 3058,\n",
              " 3048,\n",
              " 2980,\n",
              " 2887,\n",
              " 2734,\n",
              " 2716,\n",
              " 2632,\n",
              " 2525,\n",
              " 2515,\n",
              " 2402,\n",
              " 2359,\n",
              " 2109,\n",
              " 2084,\n",
              " 2070,\n",
              " 2065,\n",
              " 2041,\n",
              " 2037,\n",
              " 1943,\n",
              " 1857,\n",
              " 1785,\n",
              " 1759,\n",
              " 1733,\n",
              " 1689,\n",
              " 1578,\n",
              " 1569,\n",
              " 1542,\n",
              " 1413,\n",
              " 1371,\n",
              " 1314,\n",
              " 1263,\n",
              " 1153,\n",
              " 1041,\n",
              " 1007,\n",
              " 1003,\n",
              " 1001,\n",
              " 946,\n",
              " 821,\n",
              " 802,\n",
              " 678,\n",
              " 632,\n",
              " 623,\n",
              " 314,\n",
              " 280,\n",
              " 42]"
            ]
          },
          "metadata": {},
          "execution_count": 32
        }
      ]
    },
    {
      "cell_type": "markdown",
      "source": [
        "## Tuplas:"
      ],
      "metadata": {
        "id": "Be68CsC2OftE"
      }
    },
    {
      "cell_type": "markdown",
      "source": [
        "Crie uma tupla com os dias da semana e peça para o usuário digitar um número de 1 a 7. Exiba o dia correspondente."
      ],
      "metadata": {
        "id": "SQzRrAmq1SnR"
      }
    },
    {
      "cell_type": "code",
      "source": [
        "dias_semana = (\"Domingo\", \"Segunda-feira\", \"Terça-feira\", \"Quarta-feira\", \"Quinta-feira\", \"Sexta-feira\", \"Sábado\")\n",
        "\n",
        "numero = int(input(\"Digite um número de 1 a 7: \"))\n",
        "\n",
        "if 1 <= numero <= 7:\n",
        "    dia_correspondente = dias_semana[numero - 1]\n",
        "    print(\"O dia é:\", dia_correspondente)\n",
        "else:\n",
        "    print(\"Número inválido. Por favor, digite um número de 1 a 7.\")"
      ],
      "metadata": {
        "id": "7BqDEfeq1TZE",
        "outputId": "9ad16a2b-dedb-44d1-85db-8af96b0a2ddc",
        "colab": {
          "base_uri": "https://localhost:8080/"
        }
      },
      "execution_count": 33,
      "outputs": [
        {
          "output_type": "stream",
          "name": "stdout",
          "text": [
            "Digite um número de 1 a 7: 1\n",
            "O dia é: Domingo\n"
          ]
        }
      ]
    },
    {
      "cell_type": "markdown",
      "source": [
        "Crie duas tuplas com números inteiros e crie uma terceira tupla com a concatenação das duas."
      ],
      "metadata": {
        "id": "J9LW9fru7hv6"
      }
    },
    {
      "cell_type": "code",
      "source": [
        "tupla1 = (1, 2, 3, 4, 5)\n",
        "tupla2 = (6, 7, 8, 9, 10)\n",
        "\n",
        "tupla_concatenada = tupla1 + tupla2\n",
        "\n",
        "print(\"Tupla concatenada:\", tupla_concatenada)"
      ],
      "metadata": {
        "id": "J2pBsS-f7idJ",
        "outputId": "c8904e7a-d638-4c07-e2f6-28529451b48b",
        "colab": {
          "base_uri": "https://localhost:8080/"
        }
      },
      "execution_count": 34,
      "outputs": [
        {
          "output_type": "stream",
          "name": "stdout",
          "text": [
            "Tupla concatenada: (1, 2, 3, 4, 5, 6, 7, 8, 9, 10)\n"
          ]
        }
      ]
    },
    {
      "cell_type": "markdown",
      "source": [
        " Crie uma tupla com alguns elementos e remova um elemento específico."
      ],
      "metadata": {
        "id": "ytDz_SXB7o-8"
      }
    },
    {
      "cell_type": "code",
      "source": [
        "tupla_frutas = (\"banana\", \"maçã\",\"laranja\", \"pera\",\"morango\")\n",
        "\n",
        "print(tupla_frutas)\n",
        "tupla_frutas = tuple([fruta for fruta in tupla_frutas if fruta != \"laranja\"])\n",
        "print(tupla_frutas)"
      ],
      "metadata": {
        "id": "QvIAx6HP7pbh",
        "outputId": "d43a9008-0d3e-4f1b-912f-8405e44267c9",
        "colab": {
          "base_uri": "https://localhost:8080/"
        }
      },
      "execution_count": 35,
      "outputs": [
        {
          "output_type": "execute_result",
          "data": {
            "text/plain": [
              "('maçã', 'banana', 'laranja', 'uva', 'morango')"
            ]
          },
          "metadata": {},
          "execution_count": 35
        }
      ]
    },
    {
      "cell_type": "markdown",
      "source": [
        "#Sets"
      ],
      "metadata": {
        "id": "v_JM0Has1pPL"
      }
    },
    {
      "cell_type": "markdown",
      "source": [
        "Crie dois sets com cores diferentes e exiba na tela a união dos dois sets."
      ],
      "metadata": {
        "id": "Urrv-Y291roJ"
      }
    },
    {
      "cell_type": "code",
      "source": [
        "set_cores1 = {\"vermelho\", \"azul\", \"verde\"}\n",
        "set_cores2 = {\"amarelo\", \"roxo\", \"vermelho\"}\n",
        "\n",
        "uniao_cores = set_cores1.union(set_cores2)\n",
        "print(\"União dos sets:\")\n",
        "print(uniao_cores)"
      ],
      "metadata": {
        "id": "FM4S-PEa1zSW",
        "outputId": "00f7da20-d66a-4424-dc4d-388eca136177",
        "colab": {
          "base_uri": "https://localhost:8080/"
        }
      },
      "execution_count": 1,
      "outputs": [
        {
          "output_type": "stream",
          "name": "stdout",
          "text": [
            "União dos sets:\n",
            "{'amarelo', 'azul', 'verde', 'vermelho', 'roxo'}\n"
          ]
        }
      ]
    },
    {
      "cell_type": "markdown",
      "source": [
        "Crie uma lista com alguns números repetidos. Converta essa lista em um set para remover as duplicatas e exiba o resultado."
      ],
      "metadata": {
        "id": "0q0tG4eG1zkL"
      }
    },
    {
      "cell_type": "code",
      "source": [
        "lista_numeros_repetidos = [1, 2, 3, 4, 2, 3, 5, 6, 4]\n",
        "\n",
        "\n",
        "set_sem_repetidos = set(lista_numeros_repetidos)\n",
        "\n",
        "print(\"Lista original:\", lista_numeros_repetidos)\n",
        "print(\"Set sem duplicatas:\", set_sem_repetidos)"
      ],
      "metadata": {
        "id": "j4okoTWR2I_R",
        "outputId": "b031c58a-333b-4700-a9ff-83d91ccbabca",
        "colab": {
          "base_uri": "https://localhost:8080/"
        }
      },
      "execution_count": 2,
      "outputs": [
        {
          "output_type": "stream",
          "name": "stdout",
          "text": [
            "Lista original: [1, 2, 3, 4, 2, 3, 5, 6, 4]\n",
            "Set sem duplicatas: {1, 2, 3, 4, 5, 6}\n"
          ]
        }
      ]
    },
    {
      "cell_type": "markdown",
      "source": [
        "#Dicionários:"
      ],
      "metadata": {
        "id": "4MCBgr-k1fvU"
      }
    },
    {
      "cell_type": "markdown",
      "source": [
        "# Crie um dicionário com os nomes de algumas frutas e suas respectivas cores. Exiba na tela somente as frutas que são vermelhas."
      ],
      "metadata": {
        "id": "0A-DeyIMPh4g"
      }
    },
    {
      "cell_type": "code",
      "source": [
        "dicionario_frutas_cores = {\"maçã\": \"vermelha\",\"banana\": \"amarela\",\"morango\": \"vermelha\",\"uva\": \"roxa\",\"laranja\": \"laranja\"}\n",
        "\n",
        "print(\"Frutas vermelhas:\")\n",
        "for fruta, cor in dicionario_frutas_cores.items():\n",
        "    if cor == \"vermelha\":\n",
        "        print(fruta)"
      ],
      "metadata": {
        "id": "7jlD2DV4Pjom",
        "outputId": "40c4ed2e-5937-4e41-ff90-9d4f60852653",
        "colab": {
          "base_uri": "https://localhost:8080/"
        }
      },
      "execution_count": 3,
      "outputs": [
        {
          "output_type": "stream",
          "name": "stdout",
          "text": [
            "Frutas vermelhas:\n",
            "maçã\n",
            "morango\n"
          ]
        }
      ]
    },
    {
      "cell_type": "markdown",
      "source": [
        "Crie um dicionário com o nome e a idade de três pessoas. Busque por  um nome e exiba a idade correspondente."
      ],
      "metadata": {
        "id": "q-XV14A-PmSa"
      }
    },
    {
      "cell_type": "code",
      "source": [
        "pessoas = {\"João\": 30,\"Maria\": 25,\"Pedro\": 35}\n",
        "\n",
        "buscarnome = input(\"Digite o nome da pessoa que você deseja buscar: \")\n",
        "\n",
        "if buscarnome in pessoas:\n",
        "    idade = pessoas[buscarnome]\n",
        "    print(f\"A idade de {buscarnome} é {idade} anos.\")\n",
        "else:\n",
        "    print(\"Nome não encontrado no dicionário.\")"
      ],
      "metadata": {
        "id": "8rPH-lzG2gvh",
        "outputId": "77658b8b-4388-4d5d-883c-28616884f737",
        "colab": {
          "base_uri": "https://localhost:8080/"
        }
      },
      "execution_count": 5,
      "outputs": [
        {
          "output_type": "stream",
          "name": "stdout",
          "text": [
            "Digite o nome da pessoa que você deseja buscar: João\n",
            "A idade de João é 30 anos.\n"
          ]
        }
      ]
    },
    {
      "cell_type": "markdown",
      "source": [
        "Crie um dicionário com os nomes e idades de algumas pessoas. Peça para o usuário digitar um nome e sua nova idade, e atualize o dicionário com essa informação."
      ],
      "metadata": {
        "id": "yEn6q_MP5SdW"
      }
    },
    {
      "cell_type": "code",
      "source": [
        "pessoas = {\"João\": 30, \"Maria\": 25, \"Pedro\": 35}\n",
        "\n",
        "nome = input(\"Digite o nome da pessoa: \")\n",
        "nova_idade = int(input(\"Digite a nova idade: \"))\n",
        "\n",
        "pessoas[nome] = nova_idade\n",
        "\n",
        "print(\"Dicionário atualizado:\", pessoas)"
      ],
      "metadata": {
        "id": "H-RHnfMm5TcR",
        "outputId": "643829b4-e0cb-4555-a360-486ff667b7dd",
        "colab": {
          "base_uri": "https://localhost:8080/"
        }
      },
      "execution_count": 6,
      "outputs": [
        {
          "output_type": "stream",
          "name": "stdout",
          "text": [
            "Digite o nome da pessoa: Douglas\n",
            "Digite a nova idade: 89\n",
            "Dicionário atualizado: {'João': 30, 'Maria': 25, 'Pedro': 35, 'Douglas': 89}\n"
          ]
        }
      ]
    },
    {
      "cell_type": "markdown",
      "source": [
        "Desafio Dicionários:\n",
        "\n",
        "Busque o código desenvolvido para o exercicio abaixo e altere o algoritmo para:\n",
        "\n",
        " - Salvar o resultado da eleição em um dícionário.\n",
        "\n",
        "\n",
        "Exemplo de saida do dicionario: {\"Candidato 1\": 2, \"Candidato 2\": 2, \"Voto Nulo\": 0, \"Voto Branco\": 1}\n",
        "\n",
        "\n",
        "Este exercicio foi realizado na lista da semana passada, exercicio de número 4:"
      ],
      "metadata": {
        "id": "Jeelh1Xw2hab"
      }
    },
    {
      "cell_type": "markdown",
      "source": [
        "\n",
        "\"Em uma eleição presidencial existem dois candidatos. Os votos são informados através de códigos. Os dados utilizados para a contagem dos votos obedecem à seguinte codificação:\n",
        "\n",
        "1,2 = voto para os respectivos candidatos\n",
        "\n",
        "3 = voto nulo\n",
        "\n",
        "4 = voto em branco;\n",
        "\n",
        "Elabore um programa que leia o código de votação de 5 eleitores. Calcule e escreva: total de votos para cada candidato total de votos nulos total de votos em branco\""
      ],
      "metadata": {
        "id": "cDnoQXk83e5B"
      }
    },
    {
      "cell_type": "code",
      "source": [
        "resultados_eleicao = {\"candidato 1\": 0, \"candidato 2\": 0, \"nulo\": 0, \"branco\": 0}\n",
        "\n",
        "for i in range(5):\n",
        "    voto = int(input(\"Digite o número do seu candidato:\"))\n",
        "    while  voto <= 0 or voto > 4:\n",
        "        voto = int(input(\"Número inválido. Digite o número do seu candidato:\"))\n",
        "    if voto == 1:\n",
        "        resultados_eleicao[\"candidato1\"] += 1\n",
        "    elif voto == 2:\n",
        "        resultados_eleicao[\"candidato2\"] += 1\n",
        "    elif voto == 3:\n",
        "        resultados_eleicao[\"nulo\"] += 1\n",
        "    else:\n",
        "        resultados_eleicao[\"branco\"] += 1\n",
        "\n",
        "print(\"Resultados da eleição:\")\n",
        "print(resultados_eleicao)"
      ],
      "metadata": {
        "id": "CRlV5NE82kpE",
        "outputId": "e2a7905e-cfde-419e-c6eb-a1fd0069ca0e",
        "colab": {
          "base_uri": "https://localhost:8080/"
        }
      },
      "execution_count": 9,
      "outputs": [
        {
          "output_type": "stream",
          "name": "stdout",
          "text": [
            "Digite o número do seu candidato:1\n",
            "Digite o número do seu candidato:1\n",
            "Digite o número do seu candidato:1\n",
            "Digite o número do seu candidato:1\n",
            "Digite o número do seu candidato:2\n",
            "Resultados da eleição:\n",
            "{'candidato1': 4, 'candidato2': 1, 'nulo': 0, 'branco': 0}\n"
          ]
        }
      ]
    },
    {
      "cell_type": "markdown",
      "source": [
        "#Listas por Compreensão:"
      ],
      "metadata": {
        "id": "ffEKF4Kx5eQu"
      }
    },
    {
      "cell_type": "markdown",
      "source": [
        "Crie uma lista com os números Impares de 1 a 20 utilizando listas por compreensão."
      ],
      "metadata": {
        "id": "IrQvRhQM5oj6"
      }
    },
    {
      "cell_type": "code",
      "source": [
        "numeros_impares = [numero for numero in range(1, 21) if numero % 2 != 0]\n",
        "print(numeros_impares)"
      ],
      "metadata": {
        "id": "lqgX2B6x5fLc",
        "outputId": "0047a006-4231-4066-c896-da99a5e1fd6f",
        "colab": {
          "base_uri": "https://localhost:8080/"
        }
      },
      "execution_count": 10,
      "outputs": [
        {
          "output_type": "stream",
          "name": "stdout",
          "text": [
            "[1, 3, 5, 7, 9, 11, 13, 15, 17, 19]\n"
          ]
        }
      ]
    },
    {
      "cell_type": "markdown",
      "source": [
        ":Crie uma lista com as letras da frase \"Sou estudante de dados\", utilizando listas por compreensão."
      ],
      "metadata": {
        "id": "R2DKj08Z5tqJ"
      }
    },
    {
      "cell_type": "code",
      "source": [
        "frase = \"Sou estudante de dados\"\n",
        "letras = [letra for letra in frase if letra != \" \"]\n",
        "print(letras)"
      ],
      "metadata": {
        "id": "3UtwmZX8Oarn",
        "outputId": "bec9aa8f-1f40-405e-bc57-c72d096dfd06",
        "colab": {
          "base_uri": "https://localhost:8080/"
        }
      },
      "execution_count": 11,
      "outputs": [
        {
          "output_type": "stream",
          "name": "stdout",
          "text": [
            "['S', 'o', 'u', 'e', 's', 't', 'u', 'd', 'a', 'n', 't', 'e', 'd', 'e', 'd', 'a', 'd', 'o', 's']\n"
          ]
        }
      ]
    }
  ]
}