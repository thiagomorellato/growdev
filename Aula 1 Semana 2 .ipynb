{
 "cells": [
  {
   "cell_type": "markdown",
   "metadata": {},
   "source": [
    "AULA 1 - SEMANA 2 - Programas"
   ]
  },
  {
   "cell_type": "markdown",
   "metadata": {},
   "source": [
    "Programa para converter celsius para fahrenheit"
   ]
  },
  {
   "cell_type": "code",
   "execution_count": 8,
   "metadata": {},
   "outputs": [
    {
     "name": "stdout",
     "output_type": "stream",
     "text": [
      "A temperatura, em Fahrenheit, é de 53.6°F\n"
     ]
    }
   ],
   "source": [
    "#Programa para converter celsius para fahrenheit\n",
    "\n",
    "celsius = float(input(\"Digite uma temperatura em ºC:\"))\n",
    "\n",
    "fahrenheit =((9/5) * celsius)+32\n",
    "\n",
    "print(f\"A temperatura, em Fahrenheit, é de {fahrenheit}°F\")"
   ]
  },
  {
   "cell_type": "markdown",
   "metadata": {},
   "source": [
    "Programa para converter celsius em Fahrenheit"
   ]
  },
  {
   "cell_type": "code",
   "execution_count": 9,
   "metadata": {},
   "outputs": [
    {
     "name": "stdout",
     "output_type": "stream",
     "text": [
      "A temperatura, em Celsius, é de 12.0°C\n"
     ]
    }
   ],
   "source": [
    "fahrenheit_2 = float(input(\"Digite uma temperatura em °F:\"))\n",
    "\n",
    "celsius_2 = (fahrenheit_2 - 32)  / (9/5)\n",
    "print(f\"A temperatura, em Celsius, é de {celsius_2}°C\")"
   ]
  },
  {
   "cell_type": "markdown",
   "metadata": {},
   "source": [
    "Programa para identificar se o número é par ou ímpar"
   ]
  },
  {
   "cell_type": "code",
   "execution_count": 2,
   "metadata": {},
   "outputs": [
    {
     "name": "stdout",
     "output_type": "stream",
     "text": [
      "O número é ímpar\n"
     ]
    }
   ],
   "source": [
    "print(\"O número é par\" if int(input(\"Digite um número:\")) % 2 == 0 else \"O número é ímpar\")"
   ]
  },
  {
   "cell_type": "markdown",
   "metadata": {},
   "source": [
    "Programa adição / subtração"
   ]
  },
  {
   "cell_type": "code",
   "execution_count": 5,
   "metadata": {},
   "outputs": [
    {
     "name": "stdout",
     "output_type": "stream",
     "text": [
      "Digite dois números:\n",
      "Escolha uma opção:\n",
      "1 - adição\n",
      "2 - subtração\n",
      "Resultado da subtração: 1.0\n"
     ]
    }
   ],
   "source": [
    "print(\"Digite dois números:\")\n",
    "num1 = float(input())\n",
    "num2 = float(input())\n",
    "\n",
    "print(\"Escolha uma opção:\")\n",
    "print(\"1 - adição\")\n",
    "print(\"2 - subtração\")\n",
    "opcao = int(input())\n",
    "\n",
    "if opcao == 1:\n",
    "    resultado = num1 + num2\n",
    "    print(\"Resultado da adição:\", resultado)\n",
    "elif opcao == 2:\n",
    "    resultado = num1 - num2\n",
    "    print(\"Resultado da subtração:\", resultado)\n",
    "else:\n",
    "    print(\"Opção inválida\")"
   ]
  },
  {
   "cell_type": "markdown",
   "metadata": {},
   "source": [
    "Programa para definir aprovação ou não do aluno"
   ]
  },
  {
   "cell_type": "code",
   "execution_count": 14,
   "metadata": {},
   "outputs": [
    {
     "name": "stdout",
     "output_type": "stream",
     "text": [
      "Aluno Aprovado com média: 8.25\n"
     ]
    }
   ],
   "source": [
    "nota1 = float(input(\"Digite a nota do Primeiro Bimestre:\"))\n",
    "nota2 = float(input(\"Digite a nota do Segundo Bimestre:\"))\n",
    "nota3 = float(input(\"Digite a nota do Terceiro Bimestre:\"))\n",
    "nota4 = float(input(\"Digite a nota do Quarto Bimestre:\"))\n",
    "aulas = float(input(\"Digite o número total de aulas:\"))\n",
    "faltas = float(input(\"Digite o número de faltas:\"))\n",
    "\n",
    "media = (nota1 + nota2 + nota3 + nota4) / 4\n",
    "frequencia = 100 - ((faltas * 100)/aulas)\n",
    "\n",
    "if frequencia < 75 :\n",
    "    print(\"Aluno Reprovado por faltas\")\n",
    "elif media < 7 :\n",
    "    print(\"Aluno Reprovado por média\")\n",
    "else:\n",
    "    print(\"Aluno Aprovado com média:\", media)"
   ]
  },
  {
   "cell_type": "markdown",
   "metadata": {},
   "source": [
    "Programa para recuperação se frequência boa e nota entra 5 e 7"
   ]
  },
  {
   "cell_type": "code",
   "execution_count": 16,
   "metadata": {},
   "outputs": [
    {
     "name": "stdout",
     "output_type": "stream",
     "text": [
      "Aluno em recuperação 6.0\n"
     ]
    }
   ],
   "source": [
    "nota1 = float(input(\"Digite a nota do Primeiro Bimestre:\"))\n",
    "nota2 = float(input(\"Digite a nota do Segundo Bimestre:\"))\n",
    "nota3 = float(input(\"Digite a nota do Terceiro Bimestre:\"))\n",
    "nota4 = float(input(\"Digite a nota do Quarto Bimestre:\"))\n",
    "aulas = float(input(\"Digite o número total de aulas:\"))\n",
    "faltas = float(input(\"Digite o número de faltas:\"))\n",
    "\n",
    "media = (nota1 + nota2 + nota3 + nota4) / 4\n",
    "frequencia = 100 - ((faltas * 100)/aulas)\n",
    "\n",
    "if frequencia < 75 :\n",
    "    print(\"Aluno Reprovado por faltas\")\n",
    "elif 5 < media < 7 :\n",
    "    print(\"Aluno em recuperação com média:\", media)\n",
    "elif media < 7 :\n",
    "    print(\"Aluno Reprovado por média\")\n",
    "else:\n",
    "    print(\"Aluno Aprovado com média:\", media)"
   ]
  },
  {
   "cell_type": "markdown",
   "metadata": {},
   "source": [
    "Programa Reprovado por média e por faltas"
   ]
  },
  {
   "cell_type": "code",
   "execution_count": 18,
   "metadata": {},
   "outputs": [
    {
     "name": "stdout",
     "output_type": "stream",
     "text": [
      "Aluno Reprovado por média\n"
     ]
    }
   ],
   "source": [
    "nota1 = float(input(\"Digite a nota do Primeiro Bimestre:\"))\n",
    "nota2 = float(input(\"Digite a nota do Segundo Bimestre:\"))\n",
    "nota3 = float(input(\"Digite a nota do Terceiro Bimestre:\"))\n",
    "nota4 = float(input(\"Digite a nota do Quarto Bimestre:\"))\n",
    "aulas = float(input(\"Digite o número total de aulas:\"))\n",
    "faltas = float(input(\"Digite o número de faltas:\"))\n",
    "\n",
    "media = (nota1 + nota2 + nota3 + nota4) / 4\n",
    "frequencia = 100 - ((faltas * 100)/aulas)\n",
    "\n",
    "if frequencia < 75 and media < 7:\n",
    "    print(\"Aluno Reprovado por faltas e por média\")\n",
    "elif frequencia < 75:\n",
    "    print(\"Aluno reprovado por faltas\") \n",
    "elif 5 < media < 7 :\n",
    "    print(\"Aluno em recuperação com média:\", media)\n",
    "elif media < 7 :\n",
    "    print(\"Aluno Reprovado por média\")\n",
    "else:\n",
    "    print(\"Aluno Aprovado com média:\", media)"
   ]
  },
  {
   "cell_type": "markdown",
   "metadata": {},
   "source": [
    "Programa data"
   ]
  },
  {
   "cell_type": "code",
   "execution_count": 7,
   "metadata": {},
   "outputs": [
    {
     "name": "stdout",
     "output_type": "stream",
     "text": [
      "A data é inválida.\n"
     ]
    }
   ],
   "source": [
    "\n",
    "dia = int(input(\"Digite o dia:\"))\n",
    "mes = int(input(\"Digite o mês:\"))\n",
    "ano = int(input(\"Digite o ano:\"))\n",
    "\n",
    "bissexto = (ano % 4 == 0 and ano % 100 != 0) or (ano % 400 == 0)\n",
    "\n",
    "mes_valido = mes >= 1 and mes <= 12\n",
    "\n",
    "if mes_valido:\n",
    "    if mes in [1, 3, 5, 7, 8, 10, 12]:\n",
    "        dia_valido = dia >= 1 and dia <= 31\n",
    "    elif mes in [4, 6, 9, 11]:\n",
    "        dia_valido = dia >= 1 and dia <= 30\n",
    "    elif mes == 2:\n",
    "        if bissexto:\n",
    "            dia_valido = dia >= 1 and dia <= 29\n",
    "        else:\n",
    "            dia_valido = dia >= 1 and dia <= 28\n",
    "    else:\n",
    "        dia_valido = False\n",
    "\n",
    "if mes_valido and dia_valido:\n",
    "    print(\"A data é válida.\")\n",
    "else:\n",
    "    print(\"A data é inválida.\")"
   ]
  },
  {
   "cell_type": "markdown",
   "metadata": {},
   "source": [
    "Programa dia seguinte"
   ]
  },
  {
   "cell_type": "code",
   "execution_count": 32,
   "metadata": {},
   "outputs": [
    {
     "name": "stdout",
     "output_type": "stream",
     "text": [
      "O próximo dia é:  30 / 1 / 2025\n"
     ]
    }
   ],
   "source": [
    "dia = int(input(\"Digite o dia:\"))\n",
    "mes = int(input(\"Digite o mês:\"))\n",
    "ano = int(input(\"Digite o ano:\"))\n",
    "\n",
    "bissexto = bool(ano % 4 == 0)\n",
    "\n",
    "mes_valido = mes >= 1 and mes <= 12\n",
    "\n",
    "if mes_valido:\n",
    "    if mes in [1, 3, 5, 7, 8, 10, 12]:\n",
    "        dia_valido = dia >= 1 and dia <= 31\n",
    "    elif mes in [4, 6, 9, 11]:\n",
    "        dia_valido = dia >= 1 and dia <= 30\n",
    "    elif mes == 2:\n",
    "        if bissexto:\n",
    "            dia_valido = dia >= 1 and dia <= 29\n",
    "        else:\n",
    "            dia_valido = dia >= 1 and dia <= 28\n",
    "    else:\n",
    "        dia_valido = False\n",
    "\n",
    "if mes_valido and dia_valido:\n",
    "    if mes in [1, 3, 5, 7, 8, 10] and dia == 31 or mes in[4,6,9,11] and dia == 30 or mes == 2 and not bissexto and dia == 28 or mes == 2 and bissexto and dia == 29 :\n",
    "        diaseguinte = 1\n",
    "        messeguinte = mes + 1\n",
    "        anoseguinte = ano\n",
    "        print(\"O próximo dia é:\", diaseguinte, \"/\", messeguinte, \"/\", anoseguinte)\n",
    "    elif mes == 12 and dia == 31:\n",
    "        diaseguinte = 1\n",
    "        messeguinte = 1\n",
    "        anoseguinte = ano + 1\n",
    "        print(\"O próximo dia é:\", diaseguinte, \"/\", messeguinte, \"/\", anoseguinte)\n",
    "\n",
    "    else:\n",
    "        diaseguinte = dia + 1\n",
    "        messeguinte = mes\n",
    "        anoseguinte = ano\n",
    "        print(\"O próximo dia é:\", diaseguinte, \"/\", messeguinte, \"/\", anoseguinte)\n",
    "\n",
    "\n",
    "else:\n",
    "    print(\"A data é inválida.\")"
   ]
  },
  {
   "cell_type": "markdown",
   "metadata": {},
   "source": [
    "Programa nota do aluno e conceito:"
   ]
  },
  {
   "cell_type": "code",
   "execution_count": 34,
   "metadata": {},
   "outputs": [
    {
     "name": "stdout",
     "output_type": "stream",
     "text": [
      "Notas: 9.0 e 9.0\n",
      "Média: 9.0\n",
      "Conceito: A\n",
      "APROVADO\n"
     ]
    }
   ],
   "source": [
    "nota1 = float(input(\"Digite a primeira nota:\"))\n",
    "nota2 = float(input(\"Digite a segunda nota:\"))\n",
    "\n",
    "media = (nota1 + nota2) / 2\n",
    "\n",
    "if media >= 9 and media <= 10:\n",
    "    conceito = 'A'\n",
    "elif media >= 7 and media < 9:\n",
    "    conceito = 'B'\n",
    "elif media >= 6 and media < 7:\n",
    "    conceito = 'C'\n",
    "elif media >= 4 and media < 6:\n",
    "    conceito = 'D'\n",
    "else:\n",
    "    conceito = 'E'\n",
    "\n",
    "print(\"Notas:\", nota1, \"e\", nota2)\n",
    "print(\"Média:\", media)\n",
    "print(\"Conceito:\", conceito)\n",
    "\n",
    "if conceito in ['A', 'B', 'C']:\n",
    "    print(\"APROVADO\")\n",
    "else:\n",
    "    print(\"REPROVADO\")"
   ]
  },
  {
   "cell_type": "markdown",
   "metadata": {},
   "source": [
    "Aumento salarial - XTC"
   ]
  },
  {
   "cell_type": "code",
   "execution_count": 41,
   "metadata": {},
   "outputs": [
    {
     "name": "stdout",
     "output_type": "stream",
     "text": [
      "Salário antes do reajuste: R$ 500.00\n",
      "Percentual de aumento aplicado: 15 %\n",
      "Valor do aumento: R$ 75.00\n",
      "Novo salário após o aumento: R$ 575.00\n"
     ]
    }
   ],
   "source": [
    "salario_atual = float(input(\"Digite o salário atual do colaborador:\"))\n",
    "\n",
    "percentual_aumento = 0\n",
    "\n",
    "if salario_atual <= 280:\n",
    "    percentual_aumento = 20\n",
    "elif salario_atual <= 700:\n",
    "    percentual_aumento = 15\n",
    "elif salario_atual <= 1500:\n",
    "    percentual_aumento = 10\n",
    "else:\n",
    "    percentual_aumento = 5\n",
    "\n",
    "aumento = (percentual_aumento / 100) * salario_atual\n",
    "novo_salario = salario_atual + aumento\n",
    "\n",
    "print(f\"Salário antes do reajuste: R$ {salario_atual:.2f}\")\n",
    "print(\"Percentual de aumento aplicado:\", percentual_aumento, \"%\")\n",
    "print(f\"Valor do aumento: R$ {aumento:.2f}\")\n",
    "print(f\"Novo salário após o aumento: R$ {novo_salario:.2f}\")"
   ]
  }
 ],
 "metadata": {
  "kernelspec": {
   "display_name": "Python 3",
   "language": "python",
   "name": "python3"
  },
  "language_info": {
   "codemirror_mode": {
    "name": "ipython",
    "version": 3
   },
   "file_extension": ".py",
   "mimetype": "text/x-python",
   "name": "python",
   "nbconvert_exporter": "python",
   "pygments_lexer": "ipython3",
   "version": "3.11.0"
  }
 },
 "nbformat": 4,
 "nbformat_minor": 2
}
